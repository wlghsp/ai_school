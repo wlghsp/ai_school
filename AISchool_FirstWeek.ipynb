{
  "nbformat": 4,
  "nbformat_minor": 0,
  "metadata": {
    "colab": {
      "name": "AISchool_FirstWeek.ipynb",
      "provenance": [],
      "collapsed_sections": [],
      "authorship_tag": "ABX9TyNRgwwaZyQ3uG/HxzUy1Dxi",
      "include_colab_link": true
    },
    "kernelspec": {
      "name": "python3",
      "display_name": "Python 3"
    }
  },
  "cells": [
    {
      "cell_type": "markdown",
      "metadata": {
        "id": "view-in-github",
        "colab_type": "text"
      },
      "source": [
        "<a href=\"https://colab.research.google.com/github/wlghsp/ai_school/blob/master/AISchool_FirstWeek.ipynb\" target=\"_parent\"><img src=\"https://colab.research.google.com/assets/colab-badge.svg\" alt=\"Open In Colab\"/></a>"
      ]
    },
    {
      "cell_type": "markdown",
      "metadata": {
        "id": "kyjklZRkymSv",
        "colab_type": "text"
      },
      "source": [
        "\n",
        "# 인공지능 제품 및 서비스 조사 \n",
        "## • 분야:  언어, 음성, 이미지, 자율주행 \n",
        "\n",
        "###1) 언어\n",
        "1. 제품명: Amazon Comprehend\n",
        "2. 제조사: Amazon\n",
        "3. 분류: AI 자연어 처리 서비스 \n",
        "4. 사용된 기술:기계 학습을 사용하여 텍스트 안에 있는 통찰력과 관계를 찾음 \n",
        " - 기계 학습을 통해 비정형 데이터 속의 통찰과 관계를 밝혀냄.\n",
        " - 텍스트의 언어를 식별하고 핵심 문구, 장소, 사람, 브랜드 또는 이벤트를 추출함.\n",
        " - 토큰화 및 Parts of Speech(PoS)를 사용하여 텍스트가 얼마나 긍정적인지 또는 부정적인지를 이해하며 텍스트 파일 모음을 주제별로 자동으로 정리\n",
        " - Amazon Comprehend의 AutoML 기능으로 해당 조직의 필요에 꼭 맞게 조정된 사용자 지정 개체 세트나 텍스트 분류 모델 빌드 가능\n",
        " - 관련서비스로 텍스트에서 의료정보를 추출하는 Amazon Comprehend Medical이 있음. \n",
        "\n",
        "###2) 음성\n",
        "1. 서비스명: Amazon Transcribe Medical\n",
        "2. 제조사: Amazon\n",
        "3. 분류: AI 의료 서비스  \n",
        "4. 사용된 기술:기계학습을 통한 자동 음성인식,Amazon Comprehend Medical 의 자연어처리\n",
        " - 의료 진료 시 의사와 환자의 음성을 텍스트로 변환하도록 설계된 음성인식 기능으로 진료기록 실시간으로 작성 \n",
        " - 아마존 트랜스크라이브 메디컬은 진료기록 작성 이외에도 복용 중인 약물에 대한 정보를\n",
        "수집하고 이상 반응 탐지 및 부작용을 모니터링하는 약물 감시로도 사용 가능\n",
        " - Amazon Comprehend Medical 같은 자연어 처리 서비스를 통해 트랜스크립션을 자동으로 전송 가능\n",
        "\n",
        "\n",
        "###3) 이미지\n",
        "1. 서비스명: Amazon Rekognition\n",
        "2. 제조사: Amazon\n",
        "3. 분류: AI 이미지 및 비디오 분석 서비스\n",
        "4. 사용된 기술:기계학습을 통한 자동 음성인식(ASR),Amazon Comprehend Medical 의 자연어처리\n",
        " - 애플리케이션에 이미지 및 비디오 분석 기능을 추가해 자산 카탈로그를 생성하고, 미디어 워크플로를 자동화하고, 의미 추출 가능. \n",
        " - 이미지 및 비디오에서 객체, 사람, 텍스트, 장면 및 활동을 식별하고 부적절한 콘텐츠 탐지 가능\n",
        " - 다양한 사용자 확인, 사람 수 계산, 공공 안전 사용 사례를 위해 얼굴 탐지, 분석 및 비교하는 데 사용할 수 있는 매우 정확한 얼굴 분석 및 얼굴 검색 기능 제공\n",
        "\n",
        "###4) 자율주행\n",
        "1. 제품명: Model 3\n",
        "2. 제조사: Tesla\n",
        "3. 종류: 자율주행자동차 \n",
        "4. AI시스템: 테슬라 오토파일럿(Autopilot) \n",
        "5. 사용된 기술: 딥러닝 기반 컴퓨터 비전을 통한 자율 주행, 크라우드 소싱으로 수집한 데이터를 뉴럴네트웍 시각인식 기술을 사용\n",
        " - 완전한 자율주행기능 제공한다고 하나 아직까지 미완전함.  \n",
        " - 반(半) 자율주행 기술인 어댑티브 크루즈 컨트롤(ACC), 차선 유지, 자동 차선 변경이 가능하며 교통 신호등과 표지판 인지 기능 \n",
        " - 올해 1월 4일까지 테슬라에 누적된 자율주행 데이터는 22억85만1091마일(약  35억4192만㎞)에 이르는 방대한 주행 데이터가 강점\n",
        "\n",
        "\n",
        "\n"
      ]
    }
  ]
}