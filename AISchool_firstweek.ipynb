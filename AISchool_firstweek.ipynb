{
  "nbformat": 4,
  "nbformat_minor": 0,
  "metadata": {
    "colab": {
      "name": "AISchool_firstweek.ipynb",
      "provenance": [],
      "authorship_tag": "ABX9TyMh2mxd//MYWR5wxW5Lm1FC",
      "include_colab_link": true
    },
    "kernelspec": {
      "name": "python3",
      "display_name": "Python 3"
    }
  },
  "cells": [
    {
      "cell_type": "markdown",
      "metadata": {
        "id": "view-in-github",
        "colab_type": "text"
      },
      "source": [
        "<a href=\"https://colab.research.google.com/github/wlghsp/ai_school/blob/master/AISchool_firstweek.ipynb\" target=\"_parent\"><img src=\"https://colab.research.google.com/assets/colab-badge.svg\" alt=\"Open In Colab\"/></a>"
      ]
    },
    {
      "cell_type": "markdown",
      "metadata": {
        "id": "kyjklZRkymSv",
        "colab_type": "text"
      },
      "source": [
        "# 인공지능 제품 및 서비스\n",
        "## 4대분야: 언어, 음성, 이미지, 자율주행 \n",
        "\n",
        "###1. 언어\n",
        "\n",
        "\n",
        "###2. 음성\n",
        "\n",
        "\n",
        "###3. 이미지\n",
        "\n",
        "\n",
        "###4. 자율주행\n",
        "#### 테슬라 오토파일럿 :테슬라의 자율주행 시스템 \n",
        " *반(半) 자율주행 기술인 어댑티브 크루즈 컨트롤(ACC), 차선 유지, 자동 차선 변경이 \n",
        " 가능하며 교통 신호등과 표지판 인지 기능까지 갖췄다. \n",
        " *테슬라는 수십억 마일에 이르는 방대한 주행 데이터가 강점이다. 렉스 프리드먼 미국   매사추세츠공대(MIT) 교수 연구 결과를 보면 올해 1월 4일까지 테슬라에 누적된 자율주행 데이터는 22억85만1091마일(약 35억4192만㎞)에 이른다. 전 세계 완성차·정보기술(IT) 기업 중 압도적인 데이터 수치이다.\n",
        " \n",
        "\n"
      ]
    }
  ]
}